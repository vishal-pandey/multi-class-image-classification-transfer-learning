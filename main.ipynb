{
  "nbformat": 4,
  "nbformat_minor": 0,
  "metadata": {
    "colab": {
      "name": "cars.ipynb",
      "provenance": []
    },
    "kernelspec": {
      "name": "python3",
      "display_name": "Python 3"
    },
    "accelerator": "GPU"
  },
  "cells": [
    {
      "cell_type": "code",
      "metadata": {
        "id": "lO4DeSt8oHZj",
        "colab_type": "code",
        "outputId": "6a0fb92d-cad9-47e7-c714-93dfd8c9f679",
        "colab": {
          "base_uri": "https://localhost:8080/",
          "height": 88
        }
      },
      "source": [
        "!pip install google_images_download"
      ],
      "execution_count": 10,
      "outputs": [
        {
          "output_type": "stream",
          "text": [
            "Requirement already satisfied: google_images_download in /usr/local/lib/python3.6/dist-packages (2.8.0)\n",
            "Requirement already satisfied: selenium in /usr/local/lib/python3.6/dist-packages (from google_images_download) (3.141.0)\n",
            "Requirement already satisfied: urllib3 in /usr/local/lib/python3.6/dist-packages (from selenium->google_images_download) (1.24.3)\n"
          ],
          "name": "stdout"
        }
      ]
    },
    {
      "cell_type": "code",
      "metadata": {
        "id": "ntvQX3CHoQDy",
        "colab_type": "code",
        "colab": {}
      },
      "source": [
        "!rm -r ./*"
      ],
      "execution_count": 0,
      "outputs": []
    },
    {
      "cell_type": "code",
      "metadata": {
        "id": "7IhwN3_hobsv",
        "colab_type": "code",
        "colab": {}
      },
      "source": [
        "from google_images_download import google_images_download "
      ],
      "execution_count": 0,
      "outputs": []
    },
    {
      "cell_type": "code",
      "metadata": {
        "id": "bR18WemspBUa",
        "colab_type": "code",
        "colab": {}
      },
      "source": [
        "response = google_images_download.googleimagesdownload()"
      ],
      "execution_count": 0,
      "outputs": []
    },
    {
      "cell_type": "code",
      "metadata": {
        "id": "96sK3LmqpDuK",
        "colab_type": "code",
        "colab": {}
      },
      "source": [
        "arguments = {\"keywords\":\"Swift,Wagon R, Santro, i10\",\"limit\":40,\"print_urls\":True}"
      ],
      "execution_count": 0,
      "outputs": []
    },
    {
      "cell_type": "code",
      "metadata": {
        "id": "U8nbNBTVpGna",
        "colab_type": "code",
        "outputId": "ee8688f3-f870-4625-d047-c1e9cc17c53b",
        "colab": {
          "base_uri": "https://localhost:8080/",
          "height": 1000
        }
      },
      "source": [
        "paths = response.download(arguments)"
      ],
      "execution_count": 15,
      "outputs": [
        {
          "output_type": "stream",
          "text": [
            "\n",
            "Item no.: 1 --> Item name = Swift\n",
            "Evaluating...\n",
            "Starting Download...\n",
            "Image URL: https://upload.wikimedia.org/wikipedia/commons/thumb/9/9a/2018_Suzuki_Swift_SZ5_Boosterjet_SHVS_1.0_Front.jpg/1200px-2018_Suzuki_Swift_SZ5_Boosterjet_SHVS_1.0_Front.jpg\n",
            "Completed Image ====> 1.1200px-2018_Suzuki_Swift_SZ5_Boosterjet_SHVS_1.0_Front.jpg\n",
            "Image URL: https://www.globalsuzuki.com/img/automobile/lineup/swift/slide/key_img9.jpg\n",
            "Completed Image ====> 2.key_img9.jpg\n",
            "Image URL: https://img.etimg.com/photo/39416069/new-2014-maruti-suzuki-swift-to-launch-in-november.jpg\n",
            "Completed Image ====> 3.new-2014-maruti-suzuki-swift-to-launch-in-november.jpg\n",
            "Image URL: https://www.globalsuzuki.com/img/automobile/lineup/swiftsport/img.jpg\n",
            "Completed Image ====> 4.img.jpg\n",
            "Image URL: https://cdn.motor1.com/images/mgl/o3q8L/s1/2017-suzuki-swift.jpg\n",
            "Completed Image ====> 5.2017-suzuki-swift.jpg\n",
            "Image URL: https://upload.wikimedia.org/wikipedia/commons/a/ac/Suzuki_Swift_1.2_Comfort_%28FZ_NZ%29_%E2%80%93_Frontansicht%2C_26._M%C3%A4rz_2011%2C_D%C3%BCsseldorf.jpg\n",
            "Completed Image ====> 6.Suzuki_Swift_1.2_Comfort_%28FZ_NZ%29_%E2%80%93_Frontansicht%2C_26._M%C3%A4rz_2011%2C_D%C3%BCsseldorf.jpg\n",
            "Image URL: https://www.globalsuzuki.com/img/automobile/lineup/swift/slide/key_img3.jpg\n",
            "Completed Image ====> 7.key_img3.jpg\n",
            "Image URL: https://upload.wikimedia.org/wikipedia/commons/8/82/2017_Suzuki_Swift_%28AZ%29_GLX_Turbo_5-door_hatchback_%282017-07-15%29_01.jpg\n",
            "Completed Image ====> 8.2017_Suzuki_Swift_%28AZ%29_GLX_Turbo_5-door_hatchback_%282017-07-15%29_01.jpg\n",
            "Image URL: https://www.motortrend.com/uploads/sites/5/2019/12/2019-Suzuki-Swift-Sport-front-three-quarter-5.jpg?fit=around%7C875:492\n",
            "Completed Image ====> 9.2019-Suzuki-Swift-Sport-front-three-quarter-5.jpg\n",
            "Image URL: https://s.aolcdn.com/dims-global/dims3/GLOB/legacy_thumbnail/350x197/quality/95/https://s.aolcdn.com/os/ab/_cms/2020/01/06090657/suzuki-swift-sport-katana.jpg\n",
            "Completed Image ====> 10.suzuki-swift-sport-katana.jpg\n",
            "Image URL: https://nyc3.digitaloceanspaces.com/servercarlosesverde/elevenews/wp-content/uploads/2019/06/24150109/Suzuki_Swift_Sport_2017.jpg\n",
            "Completed Image ====> 11.Suzuki_Swift_Sport_2017.jpg\n",
            "Image URL: https://img.etimg.com/thumb/msid-66136672,width-640,resizemode-4,imgsize-189189/two-star-rating.jpg\n",
            "Completed Image ====> 12.two-star-rating.jpg\n",
            "Image URL: https://media.timeout.com/images/105158204/image.jpg\n",
            "Completed Image ====> 13.image.jpg\n",
            "Image URL: https://s1.cdn.autoevolution.com/images/news/gallery/2019-suzuki-swift-sport-gets-katana-edition-in-the-netherlands_1.jpeg\n",
            "Completed Image ====> 14.2019-suzuki-swift-sport-gets-katana-edition-in-the-netherlands_1.jpeg\n",
            "Image URL: https://cdn.motor1.com/images/mgl/e48wW/s1/2017-suzuki-swift.jpg\n",
            "Completed Image ====> 15.2017-suzuki-swift.jpg\n",
            "Image URL: https://ocs-pl.oktawave.com/v1/AUTH_2887234e-384a-4873-8bc5-405211db13a2/spidersweb/2018/12/Suzuki-Swift-Sport-2018-test-26.jpg\n",
            "Completed Image ====> 16.Suzuki-Swift-Sport-2018-test-26.jpg\n",
            "Image URL: https://i.ytimg.com/vi/I4uA2IHgkCk/maxresdefault.jpg\n",
            "Completed Image ====> 17.maxresdefault.jpg\n",
            "Image URL: https://www.globalsuzuki.com/img/automobile/lineup/swift/exterior/img2.jpg\n",
            "Completed Image ====> 18.img2.jpg\n",
            "Image URL: https://i.ytimg.com/vi/HK9PY270LhY/maxresdefault.jpg\n",
            "Completed Image ====> 19.maxresdefault.jpg\n",
            "Image URL: https://upload.wikimedia.org/wikipedia/commons/2/2a/2017_Suzuki_Swift_%28AZ%29_GLX_Turbo_5-door_hatchback_%282017-07-15%29_02.jpg\n",
            "Completed Image ====> 20.2017_Suzuki_Swift_%28AZ%29_GLX_Turbo_5-door_hatchback_%282017-07-15%29_02.jpg\n",
            "Image URL: https://upload.wikimedia.org/wikipedia/commons/thumb/1/17/Suzuki_Swift_front-1.jpg/280px-Suzuki_Swift_front-1.jpg\n",
            "Completed Image ====> 21.280px-Suzuki_Swift_front-1.jpg\n",
            "Image URL: https://cdn.motor1.com/images/mgl/e7nN8/s1/2011-266411-2012-suzuki-swift-sport-14-9-20111.jpg\n",
            "Completed Image ====> 22.2011-266411-2012-suzuki-swift-sport-14-9-20111.jpg\n",
            "Image URL: https://s3.ap-southeast-1.amazonaws.com/images.deccanchronicle.com/dc-Cover-nguo6a1arbskq72mgi1ndllch7-20180806122540.Medi.jpeg\n",
            "Completed Image ====> 23.dc-Cover-nguo6a1arbskq72mgi1ndllch7-20180806122540.Medi.jpeg\n",
            "Image URL: https://auto.ndtvimg.com/car-images/large/maruti-suzuki/swift/maruti-suzuki-swift.jpg?v=42\n",
            "Completed Image ====> 24.maruti-suzuki-swift.jpg\n",
            "Image URL: https://developer.apple.com/swift/images/swift-og.png\n",
            "Completed Image ====> 25.swift-og.png\n",
            "Image URL: https://lookaside.fbsbx.com/lookaside/crawler/media/?media_id=1227845890717418\n",
            "Invalid or missing image format. Skipping...\n",
            "Image URL: https://decepticomics.com/wp-content/uploads/2019/09/89-New-2019-Suzuki-Swift-Release-Date-and-Concept.jpg\n",
            "Completed Image ====> 26.89-New-2019-Suzuki-Swift-Release-Date-and-Concept.jpg\n",
            "Image URL: https://www.vaderstad.com/globalassets/_international/assets/tillage/tine-cultivators/swift-440-870/swift-560-desktop.jpg\n",
            "Completed Image ====> 27.swift-560-desktop.jpg\n",
            "Image URL: https://www.communitytransit.org/images/default-source/bus-service-images/buses/swift/swiftwebsitebanner-2x.jpg?sfvrsn=7a5419e2_2&MaxWidth=500&MaxHeight=600&ScaleUp=false&Quality=High&Method=ResizeFitToAreaArguments&Signature=EBC0C5025F07CF331B1323AC04789C9F0A886D18\n",
            "Completed Image ====> 28.swiftwebsitebanner-2x.jpg\n",
            "Image URL: http://www.hotelroomsearch.net/im/hotels/gb/swift-4.jpg\n",
            "Completed Image ====> 29.swift-4.jpg\n",
            "Image URL: https://www.globalsuzuki.com/img/automobile/lineup/swift/slide/key_img7.jpg\n",
            "Completed Image ====> 30.key_img7.jpg\n",
            "Image URL: https://www.revzilla.com/blog_content_image/image/58664/Vrijstaand_zijaanzicht_1140x570.jpg\n",
            "Completed Image ====> 31.Vrijstaand_zijaanzicht_1140x570.jpg\n",
            "Image URL: https://lookaside.fbsbx.com/lookaside/crawler/media/?media_id=999152600124107\n",
            "Invalid or missing image format. Skipping...\n",
            "Image URL: https://www.motortrend.com/uploads/sites/5/2019/12/2019-Suzuki-Swift-Sport-front-three-quarter-2.jpg?fit=around%7C480:270\n",
            "IOError on an image...trying next one... Error: The read operation timed out\n",
            "Image URL: https://www.swiftnav.com/sites/default/themes/swiftnav/images/skylark-chip-infographic.jpg\n",
            "Completed Image ====> 32.skylark-chip-infographic.jpg\n",
            "Image URL: https://tr3.cbsistatic.com/hub/i/r/2016/03/31/58219a57-b0b6-40c1-9791-7fa5b4f6fa5a/resize/1200x675/ddc3d5dd6d1160a9867a0f6433f43116/swifthero.jpg\n",
            "Completed Image ====> 33.swifthero.jpg\n",
            "Image URL: https://learnappmaking.com/wp-content/uploads/2018/10/timer-swift-how-to-770x400.jpg\n",
            "Completed Image ====> 34.timer-swift-how-to-770x400.jpg\n",
            "Image URL: https://image.iol.co.za/image/1/process/620x349?source=https://inm-baobab-prod-eu-west-1.s3.amazonaws.com/public/inm/iol/media/image/2019/08/19/30971158/IOLmot19aug19_Swift_c.JPG\n",
            "Invalid or missing image format. Skipping...\n",
            "Image URL: https://codewithchris-wpengine.netdna-ssl.com/wp-content/uploads/2019/11/swift-enum-open-graph.jpg\n",
            "Completed Image ====> 35.swift-enum-open-graph.jpg\n",
            "Image URL: https://images.ctfassets.net/s72atsk5w5jo/asset_8/0c677c57f96f6371bc1c4a408a03817c/swift-for-javascript-cover?fm=jpg&fl=progressive&q=75&w=300\n",
            "Invalid or missing image format. Skipping...\n",
            "Image URL: https://cdn.euroncap.com/media/28274/suzuki_swift_2017_po1.jpg?mode=crop&width=359&height=235\n",
            "Completed Image ====> 36.suzuki_swift_2017_po1.jpg\n",
            "Image URL: https://insights.dice.com/wp-content/uploads/2019/06/Swift-5-Apple-WWDC-2019-.png\n",
            "Completed Image ====> 37.Swift-5-Apple-WWDC-2019-.png\n",
            "Image URL: https://www.swift.com/sites/default/files/assets/swift_image_news_compliance6.jpg\n",
            "Completed Image ====> 38.swift_image_news_compliance6.jpg\n",
            "Image URL: https://cdn.motor1.com/images/mgl/Q9QW8/s1/suzuki-swift-sport-races-vw-up-gti.jpg\n",
            "Completed Image ====> 39.suzuki-swift-sport-races-vw-up-gti.jpg\n",
            "Image URL: https://images.idgesg.net/images/article/2019/09/primary-1-100811786-large.jpg\n",
            "Completed Image ====> 40.primary-1-100811786-large.jpg\n",
            "\n",
            "Errors: 5\n",
            "\n",
            "\n",
            "Item no.: 2 --> Item name = Wagon R\n",
            "Evaluating...\n",
            "Starting Download...\n",
            "Image URL: https://upload.wikimedia.org/wikipedia/commons/thumb/e/ef/Suzuki_Wagonr_2008.jpg/1200px-Suzuki_Wagonr_2008.jpg\n",
            "Completed Image ====> 1.1200px-Suzuki_Wagonr_2008.jpg\n",
            "Image URL: https://stimg2.cardekho.com/images/roadTestimages/930x620/20190131_080758/599/maruti0.jpg\n",
            "Completed Image ====> 2.maruti0.jpg\n",
            "Image URL: https://akm-img-a-in.tosshub.com/sites/btmt/images/stories/wagonr_660_181119053213.jpg\n",
            "Completed Image ====> 3.wagonr_660_181119053213.jpg\n",
            "Image URL: https://im.rediff.com/money/2019/feb/08new-maruti-wagon-2.jpg\n",
            "Completed Image ====> 4.08new-maruti-wagon-2.jpg\n",
            "Image URL: https://imgd.aeplcdn.com/600x337/cw/ec/38238/Maruti-Suzuki-Wagon-R-Exterior-147593.jpg?wm=1\n",
            "Completed Image ====> 5.Maruti-Suzuki-Wagon-R-Exterior-147593.jpg\n",
            "Image URL: https://images-na.ssl-images-amazon.com/images/I/51PijOwMekL._SX425_.jpg\n",
            "Completed Image ====> 6.51PijOwMekL._SX425_.jpg\n",
            "Image URL: https://upload.wikimedia.org/wikipedia/commons/8/83/2015_Suzuki_Karimun_Wagon_R_GL_1.0_MP31S_%2820190623%29.jpg\n",
            "Completed Image ====> 7.2015_Suzuki_Karimun_Wagon_R_GL_1.0_MP31S_%2820190623%29.jpg\n",
            "Image URL: https://c.ndtvimg.com/2018-12/vausaf18_new-wagon-r-launch-india_625x300_26_December_18.jpg\n",
            "Completed Image ====> 8.vausaf18_new-wagon-r-launch-india_625x300_26_December_18.jpg\n",
            "Image URL: https://lookaside.fbsbx.com/lookaside/crawler/media/?media_id=2177641605633972\n",
            "Invalid or missing image format. Skipping...\n",
            "Image URL: https://i.ytimg.com/vi/xiTuTKgbccg/maxresdefault.jpg\n",
            "Completed Image ====> 9.maxresdefault.jpg\n",
            "Image URL: https://akm-img-a-in.tosshub.com/indiatoday/images/story/201810/Wagon_r_0.jpeg?bT2nd.Qe.O4WmBar2H7ugnE2ulPb1aDk\n",
            "Completed Image ====> 10.Wagon_r_0.jpeg\n",
            "Image URL: https://img.dunyanews.tv/news/2020/January/01-03-20/news_big_images/526200_99775028.jpg\n",
            "Completed Image ====> 11.526200_99775028.jpg\n",
            "Image URL: https://5.imimg.com/data5/GO/NV/MY-28812932/maruti-suzuki-wagon-r-white-color-car-500x500.png\n",
            "Completed Image ====> 12.maruti-suzuki-wagon-r-white-color-car-500x500.png\n",
            "Image URL: https://img.etimg.com/thumb/width-640,height-480,imgsize-129776,resizemode-1,msid-70801809/maruti-suzuki-to-recall-40618-wagonr-cars.jpg\n",
            "Completed Image ====> 13.maruti-suzuki-to-recall-40618-wagonr-cars.jpg\n",
            "Image URL: https://img.etimg.com/thumb/msid-55620979,width-1200,height-900,imgsize-51830,overlay-economictimes/photo.jpg\n",
            "Completed Image ====> 14.photo.jpg\n",
            "Image URL: https://img.indianautosblog.com/2019/03/29/2019-suzuki-wagon-r-works-rendering-front-three-qu-837d.jpg\n",
            "Completed Image ====> 15.2019-suzuki-wagon-r-works-rendering-front-three-qu-837d.jpg\n",
            "Image URL: https://akm-img-a-in.tosshub.com/sites/btmt/images/stories/wagon-r_660_122618033039.jpg\n",
            "Completed Image ====> 16.wagon-r_660_122618033039.jpg\n",
            "Image URL: https://images.financialexpress.com/2019/01/2019-maruti-suzuki-wagon-R-interior-1.jpeg?w=660&h=440&imflag=true\n",
            "Completed Image ====> 17.2019-maruti-suzuki-wagon-R-interior-1.jpeg\n",
            "Image URL: https://carblogindia.com/wp-content/uploads/2018/07/maruti-wagon-r-7-seater-front-720x450-1-720x450.jpg\n",
            "Completed Image ====> 18.maruti-wagon-r-7-seater-front-720x450-1-720x450.jpg\n",
            "Image URL: https://gaadiwaadi.com/wp-content/uploads/2019/01/2019-maruti-wagon-r-review-5-2.jpg\n",
            "Completed Image ====> 19.2019-maruti-wagon-r-review-5-2.jpg\n",
            "Image URL: https://s8096.pcdn.co/wp-content/uploads/2019/03/2019-suzuki-wagon-r-overview.jpg\n",
            "Completed Image ====> 20.2019-suzuki-wagon-r-overview.jpg\n",
            "Image URL: http://img.nextagestore.com/stock_images/2763653/2763653_mdl_a6af2429.jpg\n",
            "Completed Image ====> 21.2763653_mdl_a6af2429.jpg\n",
            "Image URL: https://i.pinimg.com/originals/87/3a/e0/873ae00efeca88b7bf9e4bbf1482868f.jpg\n",
            "Completed Image ====> 22.873ae00efeca88b7bf9e4bbf1482868f.jpg\n",
            "Image URL: https://upload.wikimedia.org/wikipedia/commons/thumb/f/f5/Suzuki_Wagon_R_Wide_001.JPG/280px-Suzuki_Wagon_R_Wide_001.JPG\n",
            "Completed Image ====> 23.280px-Suzuki_Wagon_R_Wide_001.JPG\n",
            "Image URL: https://gaadiwaadi.com/wp-content/uploads/2019/02/2019-wagon-r-cng-1068x601.jpg\n",
            "Completed Image ====> 24.2019-wagon-r-cng-1068x601.jpg\n",
            "Image URL: https://s.yimg.com/ny/api/res/1.2/4DaDI9VWxYcpIsBwSwV4tA--~A/YXBwaWQ9aGlnaGxhbmRlcjtzbT0xO3c9ODAw/http://media.zenfs.com/en-IN/homerun/drivespark_460/458dfb472232dd6b3301d712fddaa147\n",
            "Invalid or missing image format. Skipping...\n",
            "Image URL: https://cache4.pakwheels.com/system/car_generation_pictures/2780/original/1.PNG?1442841508\n",
            "Completed Image ====> 25.1.PNG\n",
            "Image URL: https://i.ytimg.com/vi/G3s-JkUjU5c/maxresdefault.jpg\n",
            "Completed Image ====> 26.maxresdefault.jpg\n",
            "Image URL: http://img.nextagestore.com/stock_images/2782228/2782228_mdl_26937fda.jpg\n",
            "Completed Image ====> 27.2782228_mdl_26937fda.jpg\n",
            "Image URL: https://cdni.autocarindia.com/Utils/ImageResizer.ashx?n=http%3A%2F%2Fcdni.autocarindia.com%2FFeatures%2F0_578_872_0_70_http___cdni.autocarindia.com_Features_Maruti-WagonR.jpg&h=578&w=872&c=0\n",
            "Invalid or missing image format. Skipping...\n",
            "Image URL: https://images.news18.com/ibnlive/uploads/2019/02/New-Wagon-R-2.jpg\n",
            "Completed Image ====> 28.New-Wagon-R-2.jpg\n",
            "Image URL: https://static-news.moneycontrol.com/static-mcnews/2018/06/WagonR-770x433.jpg\n",
            "Completed Image ====> 29.WagonR-770x433.jpg\n",
            "Image URL: https://www.mycarhelpline.com/images/easyblog_articles/701/Maruti-WagonR-2019.jpg\n",
            "Completed Image ====> 30.Maruti-WagonR-2019.jpg\n",
            "Image URL: https://www.carz4sale.in/pictures/default/maruti-suzuki-wagon-r-vxi/maruti-suzuki-wagon-r-vxi-640.jpg\n",
            "Completed Image ====> 31.maruti-suzuki-wagon-r-vxi-640.jpg\n",
            "Image URL: https://360view.hum3d.com/zoom/Suzuki/Suzuki_Wagon_R_Mk6_Stingray_Hybrid_2018_1000_0001.jpg\n",
            "Completed Image ====> 32.Suzuki_Wagon_R_Mk6_Stingray_Hybrid_2018_1000_0001.jpg\n",
            "Image URL: https://www.tyremarket.com/tyremantra/wp-content/uploads/2017/09/Maruti-Wagon-R-1200x675.jpg\n",
            "Completed Image ====> 33.Maruti-Wagon-R-1200x675.jpg\n",
            "Image URL: https://www.drivespark.com/car-image/640x480x100/car/45034587-maruti_wagonr.jpg\n",
            "Completed Image ====> 34.45034587-maruti_wagonr.jpg\n",
            "Image URL: https://nilamighar.b-cdn.net/wp-content/uploads/2018/11/1-Suzuki-Wagon-R-VXL-e1542364794313.jpg\n",
            "Completed Image ====> 35.1-Suzuki-Wagon-R-VXL-e1542364794313.jpg\n",
            "Image URL: https://image-cdn.beforward.jp/large/201811/1110114/BG059641_44f846.jpg\n",
            "Completed Image ====> 36.BG059641_44f846.jpg\n",
            "Image URL: https://s3.ap-south-1.amazonaws.com/www.cimg.in/images/2018/02/07/42/148113851_15180127292_large.jpg\n",
            "Completed Image ====> 37.148113851_15180127292_large.jpg\n",
            "Image URL: https://marutiprodcdn.azureedge.net/-/media/images/maruti/cng/wagonr/mobile_banner.ashx?la=en&modified=20190826095527\n",
            "Invalid or missing image format. Skipping...\n",
            "Image URL: https://www.prathammotors.com//images/wagnor_1.png\n",
            "Completed Image ====> 38.wagnor_1.png\n",
            "Image URL: https://etimg.etb2bimg.com/photo/68173062.cms\n",
            "Invalid or missing image format. Skipping...\n",
            "Image URL: https://cdn.autoportal.com/img/new-cars-gallery/marutisuzuki/wagon-r/desc/marutisuzuki-wagon-r-84a0b39.jpg\n",
            "Completed Image ====> 39.marutisuzuki-wagon-r-84a0b39.jpg\n",
            "Image URL: https://gaadiwaadi.com/wp-content/uploads/2019/09/2019-wagon-r-stingray-xl5-front-1068x610.jpg\n",
            "Completed Image ====> 40.2019-wagon-r-stingray-xl5-front-1068x610.jpg\n",
            "\n",
            "Errors: 5\n",
            "\n",
            "\n",
            "Item no.: 3 --> Item name =  Santro\n",
            "Evaluating...\n",
            "Starting Download...\n",
            "Image URL: https://imgd.aeplcdn.com/664x374/cw/ec/32940/Hyundai-Santro-Right-Side-138736.jpg?wm=0&q=85\n",
            "Completed Image ====> 1.Hyundai-Santro-Right-Side-138736.jpg\n",
            "Image URL: https://imgd.aeplcdn.com/664x374/cw/ec/32940/Hyundai-Santro-Right-Front-Three-Quarter-138738.jpg?wm=0&q=85\n",
            "Completed Image ====> 2.Hyundai-Santro-Right-Front-Three-Quarter-138738.jpg\n",
            "Image URL: https://c.ndtvimg.com/2019-10/4j68eic8_hyundai-santro-anniversary-edition-launched-_625x300_23_October_19.jpg\n",
            "Completed Image ====> 3.4j68eic8_hyundai-santro-anniversary-edition-launched-_625x300_23_October_19.jpg\n",
            "Image URL: https://auto.ndtvimg.com/car-images/large/hyundai/new-santro/hyundai-new-santro.jpg?v=9\n",
            "Completed Image ====> 4.hyundai-new-santro.jpg\n",
            "Image URL: https://cdni.autocarindia.com/Utils/ImageResizer.ashx?n=http%3A%2F%2Fcdni.autocarindia.com%2FExtraImages%2F20181128094200_Hyundai-Santro-front-action.jpg&h=578&w=872&c=1\n",
            "Invalid or missing image format. Skipping...\n",
            "Image URL: https://cdn.autoportal.com/img/news/14376/main/239797fd81afd8030b001fa83dc8bcd5/main_cropped.jpg\n",
            "Completed Image ====> 5.main_cropped.jpg\n",
            "Image URL: https://www.drivespark.com/car-image/640x480x100/car/6893295-hyundai_santro.jpg\n",
            "Completed Image ====> 6.6893295-hyundai_santro.jpg\n",
            "Image URL: https://upload.wikimedia.org/wikipedia/commons/3/3b/Hyundai_Santro_-_3rd_Gen_%282018%29_-_AH2.jpg\n",
            "Completed Image ====> 7.Hyundai_Santro_-_3rd_Gen_%282018%29_-_AH2.jpg\n",
            "Image URL: https://stimg.cardekho.com/images/carexteriorimages/630x420/Hyundai/Santro/6667/1571893787677/front-left-side-47.jpg?tr=w-420,e-sharpen\n",
            "Completed Image ====> 8.front-left-side-47.jpg\n",
            "Image URL: https://media.zigcdn.com/media/model/2019/Sep/hyundai-santro_600x400.jpg\n",
            "Completed Image ====> 9.hyundai-santro_600x400.jpg\n",
            "Image URL: https://c.ndtvimg.com/2018-10/8kfsv0ig_hyundai-santro_625x300_28_October_18.jpg\n",
            "Completed Image ====> 10.8kfsv0ig_hyundai-santro_625x300_28_October_18.jpg\n",
            "Image URL: https://5.imimg.com/data5/AE/LS/MY-31531920/hyundai-santro-xing-gl-plus-282014-29-500x500.png\n",
            "Completed Image ====> 11.hyundai-santro-xing-gl-plus-282014-29-500x500.png\n",
            "Image URL: https://cdni.autocarindia.com/Utils/ImageResizer.ashx?n=http%3A%2F%2Fcdni.autocarindia.com%2FExtraImages%2F20181023043335_New-Santro-static.jpg&h=578&w=872&c=0\n",
            "Invalid or missing image format. Skipping...\n",
            "Image URL: https://media.zigcdn.com/media/model/2018/Oct/rear-3-4-left-1670348759_930x620.jpg\n",
            "Completed Image ====> 12.rear-3-4-left-1670348759_930x620.jpg\n",
            "Image URL: https://img.etimg.com/thumb/msid-66329585,width-640,resizemode-4,imgsize-245000/a-big-comeback.jpg\n",
            "Completed Image ====> 13.a-big-comeback.jpg\n",
            "Image URL: https://img.etimg.com/thumb/width-640,height-480,imgsize-149916,resizemode-1,msid-67101156/new-hyundai-santro-reignites-interest-in-mid-compact-cars.jpg\n",
            "Completed Image ====> 14.new-hyundai-santro-reignites-interest-in-mid-compact-cars.jpg\n",
            "Image URL: https://imgd.aeplcdn.com/664x374/cw/ec/32940/Hyundai-Santro-Right-Rear-Three-Quarter-138737.jpg?wm=0&q=85\n",
            "Completed Image ====> 15.Hyundai-Santro-Right-Rear-Three-Quarter-138737.jpg\n",
            "Image URL: https://i.ytimg.com/vi/8NT-E-nrJ9M/maxresdefault.jpg\n",
            "Completed Image ====> 16.maxresdefault.jpg\n",
            "Image URL: https://c.ndtvimg.com/2018-10/uco03doo_2018-hyundai-santro-launch_625x300_24_October_18.jpg\n",
            "Completed Image ====> 17.uco03doo_2018-hyundai-santro-launch_625x300_24_October_18.jpg\n",
            "Image URL: https://cdn.autoportal.com/img/new-cars-gallery/hyundai/santro/photo34/hyundai-santro-c36d6f0d.jpg\n",
            "Completed Image ====> 18.hyundai-santro-c36d6f0d.jpg\n",
            "Image URL: https://stimg.cardekho.com/images/carexteriorimages/630x420/Hyundai/Santro/7212/Hyundai-Santro-Sportz-SE-AMT/1571893944881/front-left-side-47.jpg?tr=w-420,e-sharpen\n",
            "Completed Image ====> 19.front-left-side-47.jpg\n",
            "Image URL: https://cdni.autocarindia.com/Utils/ImageResizer.ashx?n=http%3A%2F%2Fcdni.autocarindia.com%2FExtraImages%2F20181128094224_Hyundai-Santro-rear-action.jpg&h=578&w=872&c=1\n",
            "Invalid or missing image format. Skipping...\n",
            "Image URL: https://gaadiwaadi.com/wp-content/uploads/2018/12/tata-tiago-vs-hyundai-santro-sales-1-e1545730003242.jpg\n",
            "Completed Image ====> 20.tata-tiago-vs-hyundai-santro-sales-1-e1545730003242.jpg\n",
            "Image URL: https://www.cartoq.com/wp-content/uploads/2019/09/hyundai-santro-used-featured.jpg\n",
            "Completed Image ====> 21.hyundai-santro-used-featured.jpg\n",
            "Image URL: https://c.ndtvimg.com/2018-10/k0nv3j38_hyundai-santro-cng_625x300_23_October_18.jpg\n",
            "Completed Image ====> 22.k0nv3j38_hyundai-santro-cng_625x300_23_October_18.jpg\n",
            "Image URL: https://gaadiwaadi.com/wp-content/uploads/2018/11/2018-new-santro-blue-3-1068x643.jpg\n",
            "Completed Image ====> 23.2018-new-santro-blue-3-1068x643.jpg\n",
            "Image URL: https://akm-img-a-in.tosshub.com/indiatoday/images/bodyeditor/201910/Hyundai_SANTRO_-_Rear-1200x3675.jpg?2ze04s8AgNOHl7zWug3dS0Pzc1fP_mz1\n",
            "Completed Image ====> 24.Hyundai_SANTRO_-_Rear-1200x3675.jpg\n",
            "Image URL: https://images.livemint.com/rf/Image-621x414/LiveMint/Period2/2018/10/10/Photos/Processed/Santro-kh4G--621x414@LiveMint.jpg\n",
            "Completed Image ====> 25.Santro-kh4G--621x414@LiveMint.jpg\n",
            "Image URL: https://gaadiwaadi.com/wp-content/uploads/2019/12/2020-hyundai-santro-facelift-1-1068x601.jpg\n",
            "Completed Image ====> 26.2020-hyundai-santro-facelift-1-1068x601.jpg\n",
            "Image URL: https://www.hyundai.com/content/dam/hyundai/in/en/data/find-a-car/Santro/Highlights/pc/SANTRO_Hatchback_MainKV_Top_PC_1860x540_1_Santro-left-side-view-front-of-the-building.jpg\n",
            "Completed Image ====> 27.SANTRO_Hatchback_MainKV_Top_PC_1860x540_1_Santro-left-side-view-front-of-the-building.jpg\n",
            "Image URL: http://stat.overdrive.in/wp-content/uploads/2018/10/Hyundai-Santro-Rear-3.jpg\n",
            "Completed Image ====> 28.Hyundai-Santro-Rear-3.jpg\n",
            "Image URL: https://www.drivespark.com/img/2019/02/hyundai-santro-front-profile-1550496911.jpg\n",
            "Completed Image ====> 29.hyundai-santro-front-profile-1550496911.jpg\n",
            "Image URL: https://imgd.aeplcdn.com/664x374/cw/ec/32940/Hyundai-Santro-Front-view-138734.jpg?wm=0&q=85\n",
            "Completed Image ====> 30.Hyundai-Santro-Front-view-138734.jpg\n",
            "Image URL: https://www.rushlane.com/wp-content/uploads/2019/10/new-hyundai-santro-anniversary-edition-launch-price-14.jpg\n",
            "Completed Image ====> 31.new-hyundai-santro-anniversary-edition-launch-price-14.jpg\n",
            "Image URL: https://i.ytimg.com/vi/b-nq6V9IkrU/maxresdefault.jpg\n",
            "Completed Image ====> 32.maxresdefault.jpg\n",
            "Image URL: https://5.imimg.com/data5/JO/DX/GLADMIN-64831829/hyundai-santro-xing-gls-500x500.jpg\n",
            "Completed Image ====> 33.hyundai-santro-xing-gls-500x500.jpg\n",
            "Image URL: https://cdni.autocarindia.com/Utils/ImageResizer.ashx?n=http%3A%2F%2Fcdni.autocarindia.com%2FExtraImages%2F20181026012040_SantroGREENFRONTTRACKING.jpg&h=578&w=872&c=1\n",
            "Invalid or missing image format. Skipping...\n",
            "Image URL: https://cache3.pakwheels.com/system/car_generation_pictures/3462/original/800px-Hyundai_Atos_Prime_1.0.JPG?1450164355\n",
            "Completed Image ====> 34.800px-Hyundai_Atos_Prime_1.0.JPG\n",
            "Image URL: https://uploads.carandbike.com/used/34773/large/hyundai-santro-xing-left-side-view.jpg?v=1548492885\n",
            "Completed Image ====> 35.hyundai-santro-xing-left-side-view.jpg\n",
            "Image URL: https://akm-img-a-in.tosshub.com/indiatoday/images/story/201605/hyundai-santro-xing_story_647_051016082038.jpg\n",
            "Completed Image ====> 36.hyundai-santro-xing_story_647_051016082038.jpg\n",
            "Image URL: https://i.ytimg.com/vi/CQVxmWVjv88/hqdefault.jpg\n",
            "Completed Image ====> 37.hqdefault.jpg\n",
            "Image URL: https://cdni.autocarindia.com/Utils/ImageResizer.ashx?n=http%3A%2F%2Fcdni.autocarindia.com%2FExtraImages%2F20190508113801_SANTRO_LOWCOST_ACIx.jpg&h=578&w=872&c=0\n",
            "Invalid or missing image format. Skipping...\n",
            "Image URL: https://images.thrillophilia.com/image/upload/s--GxDAJF-9--/c_fill,f_auto,fl_strip_profile,h_775,q_auto,w_1600/v1/images/photos/000/091/742/original/1466688343_santro_1.jpg.jpg?1466688343\n",
            "Completed Image ====> 38.1466688343_santro_1.jpg\n",
            "Image URL: https://5.imimg.com/data5/JM/KO/MY-34171884/2012-hyundai-santro-xing-gl-plus-500x500.png\n",
            "Completed Image ====> 39.2012-hyundai-santro-xing-gl-plus-500x500.png\n",
            "Image URL: https://i.ytimg.com/vi/5txFrgbS-cU/maxresdefault.jpg\n",
            "Completed Image ====> 40.maxresdefault.jpg\n",
            "\n",
            "Errors: 5\n",
            "\n",
            "\n",
            "Item no.: 4 --> Item name =  i10\n",
            "Evaluating...\n",
            "Starting Download...\n",
            "Image URL: https://upload.wikimedia.org/wikipedia/commons/thumb/6/6f/2017_Hyundai_i10_SE_Automatic_1.2.jpg/1200px-2017_Hyundai_i10_SE_Automatic_1.2.jpg\n",
            "Completed Image ====> 1.1200px-2017_Hyundai_i10_SE_Automatic_1.2.jpg\n",
            "Image URL: https://imgd.aeplcdn.com/664x374/cw/ec/26859/Hyundai-Grand-i10-Exterior-167478.jpg?wm=0&q=85\n",
            "Completed Image ====> 2.Hyundai-Grand-i10-Exterior-167478.jpg\n",
            "Image URL: https://www.hyundai.news/fileadmin/eu/press-kits/20200113_the_i10/hyundai-i10-1020-01-1610.jpg\n",
            "Completed Image ====> 3.hyundai-i10-1020-01-1610.jpg\n",
            "Image URL: https://stimg.cardekho.com/images/carexteriorimages/930x620/Hyundai/Grand-i10/5602/1574415261122/front-left-side-47.jpg\n",
            "Completed Image ====> 4.front-left-side-47.jpg\n",
            "Image URL: https://upload.wikimedia.org/wikipedia/commons/5/53/Hyundai_i10_%28LA%29_at_IAA_2019_IMG_0647.jpg\n",
            "Completed Image ====> 5.Hyundai_i10_%28LA%29_at_IAA_2019_IMG_0647.jpg\n",
            "Image URL: https://auto.ndtvimg.com/car-images/colors/hyundai/grand-i10-nios/hyundai-grand-i10-nios-titon-grey.png\n",
            "Completed Image ====> 6.hyundai-grand-i10-nios-titon-grey.png\n",
            "Image URL: https://cdn.motor1.com/images/mgl/gok08/s1/2020-hyundai-i10-n-line.jpg\n",
            "Completed Image ====> 7.2020-hyundai-i10-n-line.jpg\n",
            "Image URL: https://auto.ndtvimg.com/car-images/large/hyundai/grand-i10/hyundai-grand-i10.jpg?v=34\n",
            "Completed Image ====> 8.hyundai-grand-i10.jpg\n",
            "Image URL: https://cdn.motor1.com/images/mgl/WRnoo/s1/2020-hyndai-i10.jpg\n",
            "Completed Image ====> 9.2020-hyndai-i10.jpg\n",
            "Image URL: https://cdni.autocarindia.com/Utils/ImageResizer.ashx?n=http%3A%2F%2Fcms.haymarketindia.net%2Fmodel%2Fuploads%2Fmodelimages%2Fgrand+i10modelimage.jpg&h=300&w=450&q=100\n",
            "Invalid or missing image format. Skipping...\n",
            "Image URL: https://i.ytimg.com/vi/PFZhMpFytFU/maxresdefault.jpg\n",
            "Completed Image ====> 10.maxresdefault.jpg\n",
            "Image URL: https://car-images.bauersecure.com/pagefiles/92000/480x270/hyundai_i10_100.jpg\n",
            "Completed Image ====> 11.hyundai_i10_100.jpg\n",
            "Image URL: https://imgd.aeplcdn.com/664x374/ec/E8/96/11131/img/m/Hyundai-Grand-i10-Right-Front-Three-Quarter-48830_ol.jpg?v=201711021421&q=85\n",
            "Completed Image ====> 12.Hyundai-Grand-i10-Right-Front-Three-Quarter-48830_ol.jpg\n",
            "Image URL: https://img.etimg.com/thumb/width-640,height-480,imgsize-117442,resizemode-1,msid-70751309/hyundai-launches-grand-i10-nios-with-prices-starting-at-rs-4-99-lakh.jpg\n",
            "Completed Image ====> 13.hyundai-launches-grand-i10-nios-with-prices-starting-at-rs-4-99-lakh.jpg\n",
            "Image URL: https://www.hyundai.news/fileadmin/eu/press-kits/20190903_i10_iaa/hyundai-i10-0919-exterior-06-e2e.jpg\n",
            "Completed Image ====> 14.hyundai-i10-0919-exterior-06-e2e.jpg\n",
            "Image URL: https://cdn1.droom.in//uploads/category/hyundai/20190822072409000000-3685058804794850817.jpg\n",
            "Completed Image ====> 15.20190822072409000000-3685058804794850817.jpg\n",
            "Image URL: https://cdni.autocarindia.com/Utils/ImageResizer.ashx?n=http%3A%2F%2Fcdni.autocarindia.com%2FExtraImages%2F20190814033728_Hyundai-Grand-i10-dual-tone.jpg&h=578&w=872&c=0\n",
            "Invalid or missing image format. Skipping...\n",
            "Image URL: https://cdn2.autoexpress.co.uk/sites/autoexpressuk/files/2020/01/01_23.jpg\n",
            "Completed Image ====> 16.01_23.jpg\n",
            "Image URL: https://images.netdirector.co.uk/gforces-auto/image/upload/w_392,h_294,dpr_2.0,q_auto,c_fill,f_auto,fl_lossy/auto-client/4d6fdf1774e85a7c1da3b568f80e2536/hyundai_i10_s.jpg\n",
            "Completed Image ====> 17.hyundai_i10_s.jpg\n",
            "Image URL: https://upload.wikimedia.org/wikipedia/commons/9/97/Hyundai_i10_%28LA%29_at_IAA_2019_IMG_0687.jpg\n",
            "Completed Image ====> 18.Hyundai_i10_%28LA%29_at_IAA_2019_IMG_0687.jpg\n",
            "Image URL: https://www.bandatrips.com/wp-content/uploads/2019/11/2017-Hyundai-Grand-i10-Orange-900x600.jpg\n",
            "Completed Image ====> 19.2017-Hyundai-Grand-i10-Orange-900x600.jpg\n",
            "Image URL: https://carwow-uk-0.imgix.net/model-photos/original/hyundai_14i10hb5_2b_lowaggressive_stardust-grey-metallic.png?fit=crop&w=1140&h=757&q=60&cs=tinysrgb&auto=format\n",
            "Completed Image ====> 20.hyundai_14i10hb5_2b_lowaggressive_stardust-grey-metallic.png\n",
            "Image URL: https://cdn.motor1.com/images/mgl/Y9gQq/s1/2020-hyundai-i10-n-line.jpg\n",
            "Completed Image ====> 21.2020-hyundai-i10-n-line.jpg\n",
            "Image URL: https://cdn2.autoexpress.co.uk/sites/autoexpressuk/files/styles/article_main_image/public/2019/05/01_64.jpg?itok=egs4kJLb\n",
            "Completed Image ====> 22.01_64.jpg\n",
            "Image URL: https://gaadiwaadi.com/wp-content/uploads/2019/09/grand-i10-nios-vs-2020-euro-i102.jpg\n",
            "Completed Image ====> 23.grand-i10-nios-vs-2020-euro-i102.jpg\n",
            "Image URL: https://upload.wikimedia.org/wikipedia/commons/thumb/6/64/Hyundai_i10_1.2_Style_%28II%29_%E2%80%93_Frontansicht%2C_26._Dezember_2013%2C_D%C3%BCsseldorf.jpg/280px-Hyundai_i10_1.2_Style_%28II%29_%E2%80%93_Frontansicht%2C_26._Dezember_2013%2C_D%C3%BCsseldorf.jpg\n",
            "Completed Image ====> 24.280px-Hyundai_i10_1.2_Style_%28II%29_%E2%80%93_Frontansicht%2C_26._Dezember_2013%2C_D%C3%BCsseldorf.jpg\n",
            "Image URL: https://www.autocar.co.uk/sites/autocar.co.uk/files/styles/gallery_slide/public/hyundai-i10-rear.jpg?itok=VJGIq9JU\n",
            "Completed Image ====> 25.hyundai-i10-rear.jpg\n",
            "Image URL: https://ic1.maxabout.us/autos/cars_india//H/2019/8/hyundai-grand-i10-nios.jpg\n",
            "Completed Image ====> 26.hyundai-grand-i10-nios.jpg\n",
            "Image URL: https://www.hyundai.news/fileadmin/eu/press-kits/20200113_the_i10/hyundai-i10-0120-videostill-highlights-1610.jpeg\n",
            "Completed Image ====> 27.hyundai-i10-0120-videostill-highlights-1610.jpeg\n",
            "Image URL: https://www.motoroads.com/photos/big-front-and-back-2008-hyundai-i10.jpeg\n",
            "Completed Image ====> 28.big-front-and-back-2008-hyundai-i10.jpeg\n",
            "Image URL: https://i.ytimg.com/vi/HZhHnPiqOP0/maxresdefault.jpg\n",
            "Completed Image ====> 29.maxresdefault.jpg\n",
            "Image URL: https://www.autocar.co.uk/sites/autocar.co.uk/files/styles/gallery_slide/public/hyundai-i10-rear-cornering.jpg?itok=wXm3s89x\n",
            "Completed Image ====> 30.hyundai-i10-rear-cornering.jpg\n",
            "Image URL: https://cdn.autoportal.com/img/new-cars-gallery/hyundai/grand-i10-prime/photo34/hyundai-grand-i10-prime-6b255812.jpg\n",
            "Completed Image ====> 31.hyundai-grand-i10-prime-6b255812.jpg\n",
            "Image URL: http://jsrr.in/wp-content/uploads/2019/09/hyundai-grand-i10-1-0-fluid-2019-id-61433209-type-main.jpg\n",
            "Completed Image ====> 32.hyundai-grand-i10-1-0-fluid-2019-id-61433209-type-main.jpg\n",
            "Image URL: https://car-images.bauersecure.com/pagefiles/89340/hyundai_i10_99.jpg\n",
            "Completed Image ====> 33.hyundai_i10_99.jpg\n",
            "Image URL: https://ae01.alicdn.com/kf/HTB1SD37zZyYBuNkSnfoq6AWgVXaZ/For-Hyundai-i10-2017-2018-with-turn-signal-relay-car-styling-waterproof-12V-LED-CAR-DRL.jpg\n",
            "Completed Image ====> 34.For-Hyundai-i10-2017-2018-with-turn-signal-relay-car-styling-waterproof-12V-LED-CAR-DRL.jpg\n",
            "Image URL: https://s31.wheelsage.org/picture/h/hyundai/i10/hyundai_i10_397.jpeg\n",
            "URLError on an image...trying next one... Error: <urlopen error [Errno -5] No address associated with hostname>\n",
            "Image URL: https://images.financialexpress.com/2017/02/New-Hyundai-Grand-i10-large-620x413.jpg?w=660&h=440&imflag=true\n",
            "Completed Image ====> 35.New-Hyundai-Grand-i10-large-620x413.jpg\n",
            "Image URL: https://pict1.reezocar.com/images/480/autotrader.nl/RZCATTNL8C95E2F5D591/HYUNDAI-I10-00.jpg\n",
            "Completed Image ====> 36.HYUNDAI-I10-00.jpg\n",
            "Image URL: https://www.tateleasing.co.uk/mediapics/vehicles/143/300.jpg\n",
            "Completed Image ====> 37.300.jpg\n",
            "Image URL: https://image.iol.co.za/image/1/process/620x349?source=https://inm-baobab-prod-eu-west-1.s3.amazonaws.com/public/inm/media/file/1/1725804/1406285517/image/1765700173.jpg\n",
            "Invalid or missing image format. Skipping...\n",
            "Image URL: https://imgd.aeplcdn.com/476x268/cw/ec/26859/Hyundai-Grand-i10-Right-Side-89947.jpg?v=201711021421&q=85\n",
            "Completed Image ====> 38.Hyundai-Grand-i10-Right-Side-89947.jpg\n",
            "Image URL: https://im.rediff.com/money/2019/sep/07hyundai-grand-i10-nios-5.jpg\n",
            "Completed Image ====> 39.07hyundai-grand-i10-nios-5.jpg\n",
            "Image URL: https://media.zigcdn.com/media/model/2016/Jan/hyundai_i10_600x300.jpg\n",
            "Completed Image ====> 40.hyundai_i10_600x300.jpg\n",
            "\n",
            "Errors: 4\n",
            "\n"
          ],
          "name": "stdout"
        }
      ]
    },
    {
      "cell_type": "code",
      "metadata": {
        "id": "LCuPNe5WpuBl",
        "colab_type": "code",
        "outputId": "d43890ae-38dd-4ac3-fe53-2b5bb7a14e60",
        "colab": {
          "base_uri": "https://localhost:8080/",
          "height": 54
        }
      },
      "source": [
        "print(paths)"
      ],
      "execution_count": 16,
      "outputs": [
        {
          "output_type": "stream",
          "text": [
            "({'Swift': ['/content/downloads/Swift/1.1200px-2018_Suzuki_Swift_SZ5_Boosterjet_SHVS_1.0_Front.jpg', '/content/downloads/Swift/2.key_img9.jpg', '/content/downloads/Swift/3.new-2014-maruti-suzuki-swift-to-launch-in-november.jpg', '/content/downloads/Swift/4.img.jpg', '/content/downloads/Swift/5.2017-suzuki-swift.jpg', '/content/downloads/Swift/6.Suzuki_Swift_1.2_Comfort_%28FZ_NZ%29_%E2%80%93_Frontansicht%2C_26._M%C3%A4rz_2011%2C_D%C3%BCsseldorf.jpg', '/content/downloads/Swift/7.key_img3.jpg', '/content/downloads/Swift/8.2017_Suzuki_Swift_%28AZ%29_GLX_Turbo_5-door_hatchback_%282017-07-15%29_01.jpg', '/content/downloads/Swift/9.2019-Suzuki-Swift-Sport-front-three-quarter-5.jpg', '/content/downloads/Swift/10.suzuki-swift-sport-katana.jpg', '/content/downloads/Swift/11.Suzuki_Swift_Sport_2017.jpg', '/content/downloads/Swift/12.two-star-rating.jpg', '/content/downloads/Swift/13.image.jpg', '/content/downloads/Swift/14.2019-suzuki-swift-sport-gets-katana-edition-in-the-netherlands_1.jpeg', '/content/downloads/Swift/15.2017-suzuki-swift.jpg', '/content/downloads/Swift/16.Suzuki-Swift-Sport-2018-test-26.jpg', '/content/downloads/Swift/17.maxresdefault.jpg', '/content/downloads/Swift/18.img2.jpg', '/content/downloads/Swift/19.maxresdefault.jpg', '/content/downloads/Swift/20.2017_Suzuki_Swift_%28AZ%29_GLX_Turbo_5-door_hatchback_%282017-07-15%29_02.jpg', '/content/downloads/Swift/21.280px-Suzuki_Swift_front-1.jpg', '/content/downloads/Swift/22.2011-266411-2012-suzuki-swift-sport-14-9-20111.jpg', '/content/downloads/Swift/23.dc-Cover-nguo6a1arbskq72mgi1ndllch7-20180806122540.Medi.jpeg', '/content/downloads/Swift/24.maruti-suzuki-swift.jpg', '/content/downloads/Swift/25.swift-og.png', '/content/downloads/Swift/26.89-New-2019-Suzuki-Swift-Release-Date-and-Concept.jpg', '/content/downloads/Swift/27.swift-560-desktop.jpg', '/content/downloads/Swift/28.swiftwebsitebanner-2x.jpg', '/content/downloads/Swift/29.swift-4.jpg', '/content/downloads/Swift/30.key_img7.jpg', '/content/downloads/Swift/31.Vrijstaand_zijaanzicht_1140x570.jpg', '/content/downloads/Swift/32.skylark-chip-infographic.jpg', '/content/downloads/Swift/33.swifthero.jpg', '/content/downloads/Swift/34.timer-swift-how-to-770x400.jpg', '/content/downloads/Swift/35.swift-enum-open-graph.jpg', '/content/downloads/Swift/36.suzuki_swift_2017_po1.jpg', '/content/downloads/Swift/37.Swift-5-Apple-WWDC-2019-.png', '/content/downloads/Swift/38.swift_image_news_compliance6.jpg', '/content/downloads/Swift/39.suzuki-swift-sport-races-vw-up-gti.jpg', '/content/downloads/Swift/40.primary-1-100811786-large.jpg'], 'Wagon R': ['/content/downloads/Wagon R/1.1200px-Suzuki_Wagonr_2008.jpg', '/content/downloads/Wagon R/2.maruti0.jpg', '/content/downloads/Wagon R/3.wagonr_660_181119053213.jpg', '/content/downloads/Wagon R/4.08new-maruti-wagon-2.jpg', '/content/downloads/Wagon R/5.Maruti-Suzuki-Wagon-R-Exterior-147593.jpg', '/content/downloads/Wagon R/6.51PijOwMekL._SX425_.jpg', '/content/downloads/Wagon R/7.2015_Suzuki_Karimun_Wagon_R_GL_1.0_MP31S_%2820190623%29.jpg', '/content/downloads/Wagon R/8.vausaf18_new-wagon-r-launch-india_625x300_26_December_18.jpg', '/content/downloads/Wagon R/9.maxresdefault.jpg', '/content/downloads/Wagon R/10.Wagon_r_0.jpeg', '/content/downloads/Wagon R/11.526200_99775028.jpg', '/content/downloads/Wagon R/12.maruti-suzuki-wagon-r-white-color-car-500x500.png', '/content/downloads/Wagon R/13.maruti-suzuki-to-recall-40618-wagonr-cars.jpg', '/content/downloads/Wagon R/14.photo.jpg', '/content/downloads/Wagon R/15.2019-suzuki-wagon-r-works-rendering-front-three-qu-837d.jpg', '/content/downloads/Wagon R/16.wagon-r_660_122618033039.jpg', '/content/downloads/Wagon R/17.2019-maruti-suzuki-wagon-R-interior-1.jpeg', '/content/downloads/Wagon R/18.maruti-wagon-r-7-seater-front-720x450-1-720x450.jpg', '/content/downloads/Wagon R/19.2019-maruti-wagon-r-review-5-2.jpg', '/content/downloads/Wagon R/20.2019-suzuki-wagon-r-overview.jpg', '/content/downloads/Wagon R/21.2763653_mdl_a6af2429.jpg', '/content/downloads/Wagon R/22.873ae00efeca88b7bf9e4bbf1482868f.jpg', '/content/downloads/Wagon R/23.280px-Suzuki_Wagon_R_Wide_001.JPG', '/content/downloads/Wagon R/24.2019-wagon-r-cng-1068x601.jpg', '/content/downloads/Wagon R/25.1.PNG', '/content/downloads/Wagon R/26.maxresdefault.jpg', '/content/downloads/Wagon R/27.2782228_mdl_26937fda.jpg', '/content/downloads/Wagon R/28.New-Wagon-R-2.jpg', '/content/downloads/Wagon R/29.WagonR-770x433.jpg', '/content/downloads/Wagon R/30.Maruti-WagonR-2019.jpg', '/content/downloads/Wagon R/31.maruti-suzuki-wagon-r-vxi-640.jpg', '/content/downloads/Wagon R/32.Suzuki_Wagon_R_Mk6_Stingray_Hybrid_2018_1000_0001.jpg', '/content/downloads/Wagon R/33.Maruti-Wagon-R-1200x675.jpg', '/content/downloads/Wagon R/34.45034587-maruti_wagonr.jpg', '/content/downloads/Wagon R/35.1-Suzuki-Wagon-R-VXL-e1542364794313.jpg', '/content/downloads/Wagon R/36.BG059641_44f846.jpg', '/content/downloads/Wagon R/37.148113851_15180127292_large.jpg', '/content/downloads/Wagon R/38.wagnor_1.png', '/content/downloads/Wagon R/39.marutisuzuki-wagon-r-84a0b39.jpg', '/content/downloads/Wagon R/40.2019-wagon-r-stingray-xl5-front-1068x610.jpg'], ' Santro': ['/content/downloads/ Santro/1.Hyundai-Santro-Right-Side-138736.jpg', '/content/downloads/ Santro/2.Hyundai-Santro-Right-Front-Three-Quarter-138738.jpg', '/content/downloads/ Santro/3.4j68eic8_hyundai-santro-anniversary-edition-launched-_625x300_23_October_19.jpg', '/content/downloads/ Santro/4.hyundai-new-santro.jpg', '/content/downloads/ Santro/5.main_cropped.jpg', '/content/downloads/ Santro/6.6893295-hyundai_santro.jpg', '/content/downloads/ Santro/7.Hyundai_Santro_-_3rd_Gen_%282018%29_-_AH2.jpg', '/content/downloads/ Santro/8.front-left-side-47.jpg', '/content/downloads/ Santro/9.hyundai-santro_600x400.jpg', '/content/downloads/ Santro/10.8kfsv0ig_hyundai-santro_625x300_28_October_18.jpg', '/content/downloads/ Santro/11.hyundai-santro-xing-gl-plus-282014-29-500x500.png', '/content/downloads/ Santro/12.rear-3-4-left-1670348759_930x620.jpg', '/content/downloads/ Santro/13.a-big-comeback.jpg', '/content/downloads/ Santro/14.new-hyundai-santro-reignites-interest-in-mid-compact-cars.jpg', '/content/downloads/ Santro/15.Hyundai-Santro-Right-Rear-Three-Quarter-138737.jpg', '/content/downloads/ Santro/16.maxresdefault.jpg', '/content/downloads/ Santro/17.uco03doo_2018-hyundai-santro-launch_625x300_24_October_18.jpg', '/content/downloads/ Santro/18.hyundai-santro-c36d6f0d.jpg', '/content/downloads/ Santro/19.front-left-side-47.jpg', '/content/downloads/ Santro/20.tata-tiago-vs-hyundai-santro-sales-1-e1545730003242.jpg', '/content/downloads/ Santro/21.hyundai-santro-used-featured.jpg', '/content/downloads/ Santro/22.k0nv3j38_hyundai-santro-cng_625x300_23_October_18.jpg', '/content/downloads/ Santro/23.2018-new-santro-blue-3-1068x643.jpg', '/content/downloads/ Santro/24.Hyundai_SANTRO_-_Rear-1200x3675.jpg', '/content/downloads/ Santro/25.Santro-kh4G--621x414@LiveMint.jpg', '/content/downloads/ Santro/26.2020-hyundai-santro-facelift-1-1068x601.jpg', '/content/downloads/ Santro/27.SANTRO_Hatchback_MainKV_Top_PC_1860x540_1_Santro-left-side-view-front-of-the-building.jpg', '/content/downloads/ Santro/28.Hyundai-Santro-Rear-3.jpg', '/content/downloads/ Santro/29.hyundai-santro-front-profile-1550496911.jpg', '/content/downloads/ Santro/30.Hyundai-Santro-Front-view-138734.jpg', '/content/downloads/ Santro/31.new-hyundai-santro-anniversary-edition-launch-price-14.jpg', '/content/downloads/ Santro/32.maxresdefault.jpg', '/content/downloads/ Santro/33.hyundai-santro-xing-gls-500x500.jpg', '/content/downloads/ Santro/34.800px-Hyundai_Atos_Prime_1.0.JPG', '/content/downloads/ Santro/35.hyundai-santro-xing-left-side-view.jpg', '/content/downloads/ Santro/36.hyundai-santro-xing_story_647_051016082038.jpg', '/content/downloads/ Santro/37.hqdefault.jpg', '/content/downloads/ Santro/38.1466688343_santro_1.jpg', '/content/downloads/ Santro/39.2012-hyundai-santro-xing-gl-plus-500x500.png', '/content/downloads/ Santro/40.maxresdefault.jpg'], ' i10': ['/content/downloads/ i10/1.1200px-2017_Hyundai_i10_SE_Automatic_1.2.jpg', '/content/downloads/ i10/2.Hyundai-Grand-i10-Exterior-167478.jpg', '/content/downloads/ i10/3.hyundai-i10-1020-01-1610.jpg', '/content/downloads/ i10/4.front-left-side-47.jpg', '/content/downloads/ i10/5.Hyundai_i10_%28LA%29_at_IAA_2019_IMG_0647.jpg', '/content/downloads/ i10/6.hyundai-grand-i10-nios-titon-grey.png', '/content/downloads/ i10/7.2020-hyundai-i10-n-line.jpg', '/content/downloads/ i10/8.hyundai-grand-i10.jpg', '/content/downloads/ i10/9.2020-hyndai-i10.jpg', '/content/downloads/ i10/10.maxresdefault.jpg', '/content/downloads/ i10/11.hyundai_i10_100.jpg', '/content/downloads/ i10/12.Hyundai-Grand-i10-Right-Front-Three-Quarter-48830_ol.jpg', '/content/downloads/ i10/13.hyundai-launches-grand-i10-nios-with-prices-starting-at-rs-4-99-lakh.jpg', '/content/downloads/ i10/14.hyundai-i10-0919-exterior-06-e2e.jpg', '/content/downloads/ i10/15.20190822072409000000-3685058804794850817.jpg', '/content/downloads/ i10/16.01_23.jpg', '/content/downloads/ i10/17.hyundai_i10_s.jpg', '/content/downloads/ i10/18.Hyundai_i10_%28LA%29_at_IAA_2019_IMG_0687.jpg', '/content/downloads/ i10/19.2017-Hyundai-Grand-i10-Orange-900x600.jpg', '/content/downloads/ i10/20.hyundai_14i10hb5_2b_lowaggressive_stardust-grey-metallic.png', '/content/downloads/ i10/21.2020-hyundai-i10-n-line.jpg', '/content/downloads/ i10/22.01_64.jpg', '/content/downloads/ i10/23.grand-i10-nios-vs-2020-euro-i102.jpg', '/content/downloads/ i10/24.280px-Hyundai_i10_1.2_Style_%28II%29_%E2%80%93_Frontansicht%2C_26._Dezember_2013%2C_D%C3%BCsseldorf.jpg', '/content/downloads/ i10/25.hyundai-i10-rear.jpg', '/content/downloads/ i10/26.hyundai-grand-i10-nios.jpg', '/content/downloads/ i10/27.hyundai-i10-0120-videostill-highlights-1610.jpeg', '/content/downloads/ i10/28.big-front-and-back-2008-hyundai-i10.jpeg', '/content/downloads/ i10/29.maxresdefault.jpg', '/content/downloads/ i10/30.hyundai-i10-rear-cornering.jpg', '/content/downloads/ i10/31.hyundai-grand-i10-prime-6b255812.jpg', '/content/downloads/ i10/32.hyundai-grand-i10-1-0-fluid-2019-id-61433209-type-main.jpg', '/content/downloads/ i10/33.hyundai_i10_99.jpg', '/content/downloads/ i10/34.For-Hyundai-i10-2017-2018-with-turn-signal-relay-car-styling-waterproof-12V-LED-CAR-DRL.jpg', '/content/downloads/ i10/35.New-Hyundai-Grand-i10-large-620x413.jpg', '/content/downloads/ i10/36.HYUNDAI-I10-00.jpg', '/content/downloads/ i10/37.300.jpg', '/content/downloads/ i10/38.Hyundai-Grand-i10-Right-Side-89947.jpg', '/content/downloads/ i10/39.07hyundai-grand-i10-nios-5.jpg', '/content/downloads/ i10/40.hyundai_i10_600x300.jpg']}, 19)\n"
          ],
          "name": "stdout"
        }
      ]
    },
    {
      "cell_type": "code",
      "metadata": {
        "id": "NwCUkIjIp0nm",
        "colab_type": "code",
        "colab": {}
      },
      "source": [
        "from keras.applications.resnet50 import ResNet50, preprocess_input"
      ],
      "execution_count": 0,
      "outputs": []
    },
    {
      "cell_type": "code",
      "metadata": {
        "id": "YJZfPdGv1v_K",
        "colab_type": "code",
        "outputId": "e5368d51-1634-485a-b423-321601ffad89",
        "colab": {
          "base_uri": "https://localhost:8080/",
          "height": 71
        }
      },
      "source": [
        "HEIGHT = 100\n",
        "WIDTH = 100\n",
        "\n",
        "base_model = ResNet50(weights='imagenet', \n",
        "                      include_top=False, \n",
        "                      input_shape=(HEIGHT, WIDTH, 3))"
      ],
      "execution_count": 18,
      "outputs": [
        {
          "output_type": "stream",
          "text": [
            "/usr/local/lib/python3.6/dist-packages/keras_applications/resnet50.py:265: UserWarning: The output shape of `ResNet50(include_top=False)` has been changed since Keras 2.2.0.\n",
            "  warnings.warn('The output shape of `ResNet50(include_top=False)` '\n"
          ],
          "name": "stderr"
        }
      ]
    },
    {
      "cell_type": "code",
      "metadata": {
        "id": "M_r4fSw71y-N",
        "colab_type": "code",
        "outputId": "5c8e6ca3-1e2f-4ee8-d4d4-6441ba0d9eaa",
        "colab": {
          "base_uri": "https://localhost:8080/",
          "height": 34
        }
      },
      "source": [
        "from keras.preprocessing.image import ImageDataGenerator\n",
        "\n",
        "TRAIN_DIR = \"downloads\"\n",
        "BATCH_SIZE = 8\n",
        "\n",
        "train_datagen =  ImageDataGenerator(\n",
        "      preprocessing_function=preprocess_input,\n",
        "      rotation_range=90,\n",
        "      horizontal_flip=True,\n",
        "      vertical_flip=True\n",
        "    )\n",
        "\n",
        "train_generator = train_datagen.flow_from_directory(TRAIN_DIR, \n",
        "                                                    target_size=(HEIGHT, WIDTH), \n",
        "                                                    batch_size=BATCH_SIZE)"
      ],
      "execution_count": 19,
      "outputs": [
        {
          "output_type": "stream",
          "text": [
            "Found 160 images belonging to 4 classes.\n"
          ],
          "name": "stdout"
        }
      ]
    },
    {
      "cell_type": "code",
      "metadata": {
        "id": "1k4UVmkF3J2z",
        "colab_type": "code",
        "colab": {
          "base_uri": "https://localhost:8080/",
          "height": 122
        },
        "outputId": "4a99bb29-7d0f-485f-a648-2ac3ae58ef2e"
      },
      "source": [
        "from keras.layers import Dense, Activation, Flatten, Dropout\n",
        "from keras.models import Sequential, Model\n",
        "\n",
        "def build_finetune_model(base_model, dropout, fc_layers, num_classes):\n",
        "    for layer in base_model.layers:\n",
        "        layer.trainable = False\n",
        "\n",
        "    x = base_model.output\n",
        "    x = Flatten()(x)\n",
        "    for fc in fc_layers:\n",
        "        # New FC layer, random init\n",
        "        x = Dense(fc, activation='relu')(x) \n",
        "        x = Dropout(dropout)(x)\n",
        "\n",
        "    # New softmax layer\n",
        "    predictions = Dense(num_classes, activation='softmax')(x) \n",
        "    \n",
        "    finetune_model = Model(inputs=base_model.input, outputs=predictions)\n",
        "\n",
        "    return finetune_model\n",
        "\n",
        "class_list = [\"Swift\",\"Wagon R\",\"Santro\",\"i10\"]\n",
        "FC_LAYERS = [1024, 1024]\n",
        "dropout = 0.5\n",
        "\n",
        "finetune_model = build_finetune_model(base_model, \n",
        "                                      dropout=dropout, \n",
        "                                      fc_layers=FC_LAYERS, \n",
        "                                      num_classes=len(class_list))"
      ],
      "execution_count": 20,
      "outputs": [
        {
          "output_type": "stream",
          "text": [
            "WARNING:tensorflow:From /usr/local/lib/python3.6/dist-packages/keras/backend/tensorflow_backend.py:4432: The name tf.random_uniform is deprecated. Please use tf.random.uniform instead.\n",
            "\n",
            "WARNING:tensorflow:From /usr/local/lib/python3.6/dist-packages/keras/backend/tensorflow_backend.py:3733: calling dropout (from tensorflow.python.ops.nn_ops) with keep_prob is deprecated and will be removed in a future version.\n",
            "Instructions for updating:\n",
            "Please use `rate` instead of `keep_prob`. Rate should be set to `rate = 1 - keep_prob`.\n"
          ],
          "name": "stdout"
        }
      ]
    },
    {
      "cell_type": "code",
      "metadata": {
        "id": "cw9T1lBi3QW4",
        "colab_type": "code",
        "colab": {}
      },
      "source": [
        "!mkdir ./checkpoints\n",
        "!touch ./checkpoints/ResNet50_model_weights.h5"
      ],
      "execution_count": 0,
      "outputs": []
    },
    {
      "cell_type": "code",
      "metadata": {
        "id": "9oUfx7Yd3VC2",
        "colab_type": "code",
        "outputId": "0c6ee84a-ce31-4960-d6aa-9df95fe02d89",
        "colab": {
          "base_uri": "https://localhost:8080/",
          "height": 1000
        }
      },
      "source": [
        "from keras.optimizers import SGD, Adam\n",
        "from keras.callbacks import ModelCheckpoint\n",
        "import matplotlib.pyplot as plt\n",
        "\n",
        "NUM_EPOCHS = 10\n",
        "BATCH_SIZE = 8\n",
        "num_train_images = 10000\n",
        "\n",
        "adam = Adam(lr=0.00001)\n",
        "finetune_model.compile(adam, loss='categorical_crossentropy', metrics=['accuracy'])\n",
        "\n",
        "filepath=\"./checkpoints/\" + \"ResNet50\" + \"_model_weights.h5\"\n",
        "checkpoint = ModelCheckpoint(filepath, monitor=[\"acc\"], verbose=1, mode='max')\n",
        "callbacks_list = [checkpoint]\n",
        "\n",
        "history = finetune_model.fit_generator(train_generator, epochs=NUM_EPOCHS, workers=8, \n",
        "                                       steps_per_epoch=num_train_images // BATCH_SIZE, \n",
        "                                       shuffle=True, callbacks=callbacks_list)\n",
        "\n",
        "plot_training(history)\n",
        "\n",
        "# Plot the training and validation loss + accuracy\n",
        "def plot_training(history):\n",
        "    acc = history.history['acc']\n",
        "    val_acc = history.history['val_acc']\n",
        "    loss = history.history['loss']\n",
        "    val_loss = history.history['val_loss']\n",
        "    epochs = range(len(acc))\n",
        "\n",
        "    plt.plot(epochs, acc, 'r.')\n",
        "    plt.plot(epochs, val_acc, 'r')\n",
        "    plt.title('Training and validation accuracy')\n",
        "    plt.show()\n",
        "\n",
        "    plt.savefig('acc_vs_epochs.png')"
      ],
      "execution_count": 22,
      "outputs": [
        {
          "output_type": "stream",
          "text": [
            "WARNING:tensorflow:From /usr/local/lib/python3.6/dist-packages/keras/optimizers.py:793: The name tf.train.Optimizer is deprecated. Please use tf.compat.v1.train.Optimizer instead.\n",
            "\n",
            "WARNING:tensorflow:From /usr/local/lib/python3.6/dist-packages/keras/backend/tensorflow_backend.py:3576: The name tf.log is deprecated. Please use tf.math.log instead.\n",
            "\n",
            "WARNING:tensorflow:From /usr/local/lib/python3.6/dist-packages/tensorflow_core/python/ops/math_grad.py:1424: where (from tensorflow.python.ops.array_ops) is deprecated and will be removed in a future version.\n",
            "Instructions for updating:\n",
            "Use tf.where in 2.0, which has the same broadcast rule as np.where\n",
            "WARNING:tensorflow:From /usr/local/lib/python3.6/dist-packages/keras/backend/tensorflow_backend.py:1033: The name tf.assign_add is deprecated. Please use tf.compat.v1.assign_add instead.\n",
            "\n",
            "WARNING:tensorflow:From /usr/local/lib/python3.6/dist-packages/keras/backend/tensorflow_backend.py:1020: The name tf.assign is deprecated. Please use tf.compat.v1.assign instead.\n",
            "\n",
            "Epoch 1/10\n",
            "  12/1250 [..............................] - ETA: 21:53 - loss: 2.2196 - acc: 0.3125"
          ],
          "name": "stdout"
        },
        {
          "output_type": "stream",
          "text": [
            "/usr/local/lib/python3.6/dist-packages/PIL/Image.py:989: UserWarning: Palette images with Transparency expressed in bytes should be converted to RGBA images\n",
            "  \"Palette images with Transparency expressed in bytes should be \"\n"
          ],
          "name": "stderr"
        },
        {
          "output_type": "stream",
          "text": [
            "1250/1250 [==============================] - 232s 186ms/step - loss: 1.5041 - acc: 0.4411\n",
            "\n",
            "Epoch 00001: saving model to ./checkpoints/ResNet50_model_weights.h5\n",
            "Epoch 2/10\n",
            "1250/1250 [==============================] - 221s 177ms/step - loss: 0.8839 - acc: 0.6446\n",
            "\n",
            "Epoch 00002: saving model to ./checkpoints/ResNet50_model_weights.h5\n",
            "Epoch 3/10\n",
            "1250/1250 [==============================] - 218s 175ms/step - loss: 0.6298 - acc: 0.7529\n",
            "\n",
            "Epoch 00003: saving model to ./checkpoints/ResNet50_model_weights.h5\n",
            "Epoch 4/10\n",
            "1250/1250 [==============================] - 219s 175ms/step - loss: 0.4301 - acc: 0.8417\n",
            "\n",
            "Epoch 00004: saving model to ./checkpoints/ResNet50_model_weights.h5\n",
            "Epoch 5/10\n",
            "1250/1250 [==============================] - 212s 170ms/step - loss: 0.3231 - acc: 0.8794\n",
            "\n",
            "Epoch 00005: saving model to ./checkpoints/ResNet50_model_weights.h5\n",
            "Epoch 6/10\n",
            "1250/1250 [==============================] - 206s 165ms/step - loss: 0.2391 - acc: 0.9117\n",
            "\n",
            "Epoch 00006: saving model to ./checkpoints/ResNet50_model_weights.h5\n",
            "Epoch 7/10\n",
            "1250/1250 [==============================] - 224s 179ms/step - loss: 0.1922 - acc: 0.9274\n",
            "\n",
            "Epoch 00007: saving model to ./checkpoints/ResNet50_model_weights.h5\n",
            "Epoch 8/10\n",
            "1250/1250 [==============================] - 220s 176ms/step - loss: 0.1591 - acc: 0.9456\n",
            "\n",
            "Epoch 00008: saving model to ./checkpoints/ResNet50_model_weights.h5\n",
            "Epoch 9/10\n",
            "1250/1250 [==============================] - 221s 177ms/step - loss: 0.1172 - acc: 0.9595\n",
            "\n",
            "Epoch 00009: saving model to ./checkpoints/ResNet50_model_weights.h5\n",
            "Epoch 10/10\n",
            "1250/1250 [==============================] - 221s 177ms/step - loss: 0.1079 - acc: 0.9623\n",
            "\n",
            "Epoch 00010: saving model to ./checkpoints/ResNet50_model_weights.h5\n"
          ],
          "name": "stdout"
        },
        {
          "output_type": "error",
          "ename": "NameError",
          "evalue": "ignored",
          "traceback": [
            "\u001b[0;31m---------------------------------------------------------------------------\u001b[0m",
            "\u001b[0;31mNameError\u001b[0m                                 Traceback (most recent call last)",
            "\u001b[0;32m<ipython-input-22-fa34e523149e>\u001b[0m in \u001b[0;36m<module>\u001b[0;34m()\u001b[0m\n\u001b[1;32m     19\u001b[0m \u001b[0;34m\u001b[0m\u001b[0m\n\u001b[1;32m     20\u001b[0m \u001b[0;34m\u001b[0m\u001b[0m\n\u001b[0;32m---> 21\u001b[0;31m \u001b[0mplot_training\u001b[0m\u001b[0;34m(\u001b[0m\u001b[0mhistory\u001b[0m\u001b[0;34m)\u001b[0m\u001b[0;34m\u001b[0m\u001b[0;34m\u001b[0m\u001b[0m\n\u001b[0m\u001b[1;32m     22\u001b[0m \u001b[0;34m\u001b[0m\u001b[0m\n\u001b[1;32m     23\u001b[0m \u001b[0;31m# Plot the training and validation loss + accuracy\u001b[0m\u001b[0;34m\u001b[0m\u001b[0;34m\u001b[0m\u001b[0;34m\u001b[0m\u001b[0m\n",
            "\u001b[0;31mNameError\u001b[0m: name 'plot_training' is not defined"
          ]
        }
      ]
    },
    {
      "cell_type": "code",
      "metadata": {
        "id": "-Dx06cXz3ZBe",
        "colab_type": "code",
        "colab": {}
      },
      "source": [
        "# Plot the training loss + accuracy\n",
        "def plot_training(history):\n",
        "    acc = history.history['acc']\n",
        "    loss = history.history['loss']\n",
        "    epochs = range(len(acc))\n",
        "\n",
        "    plt.plot(epochs, acc, 'r-', label='accuracy')\n",
        "    plt.plot(epochs, loss, 'b-', label='loss')\n",
        "    plt.title('Training accuracy')\n",
        "    plt.legend()\n",
        "    plt.show()\n",
        "    plt.savefig('acc_vs_epochs.png')"
      ],
      "execution_count": 0,
      "outputs": []
    },
    {
      "cell_type": "code",
      "metadata": {
        "id": "W8yM-Jgu6yHZ",
        "colab_type": "code",
        "colab": {
          "base_uri": "https://localhost:8080/",
          "height": 298
        },
        "outputId": "7aa001fe-1106-432a-e3c8-bab0e65db3ca"
      },
      "source": [
        "plot_training(history)"
      ],
      "execution_count": 39,
      "outputs": [
        {
          "output_type": "display_data",
          "data": {
            "image/png": "[encoded data removed]",
            "text/plain": [
              "<Figure size 432x288 with 1 Axes>"
            ]
          },
          "metadata": {
            "tags": []
          }
        },
        {
          "output_type": "display_data",
          "data": {
            "text/plain": [
              "<Figure size 432x288 with 0 Axes>"
            ]
          },
          "metadata": {
            "tags": []
          }
        }
      ]
    },
    {
      "cell_type": "code",
      "metadata": {
        "id": "3GDz_Eo265sr",
        "colab_type": "code",
        "colab": {}
      },
      "source": [
        "finetune_model.save('cars_model.h5')"
      ],
      "execution_count": 0,
      "outputs": []
    },
    {
      "cell_type": "code",
      "metadata": {
        "id": "gyQFRWqGGg7o",
        "colab_type": "code",
        "colab": {
          "base_uri": "https://localhost:8080/",
          "height": 170
        },
        "outputId": "45157955-1652-41e6-db7c-f6479404b058"
      },
      "source": [
        "!ls -lah"
      ],
      "execution_count": 56,
      "outputs": [
        {
          "output_type": "stream",
          "text": [
            "total 487M\n",
            "drwxr-xr-x 1 root root 4.0K Jan 18 10:01 .\n",
            "drwxr-xr-x 1 root root 4.0K Jan 18 09:32 ..\n",
            "-rw-r--r-- 1 root root 1.3K Jan 18 09:32 acc_vs_epochs.png\n",
            "-rw-r--r-- 1 root root 487M Jan 18 10:01 cars_model.h5\n",
            "drwxr-xr-x 2 root root 4.0K Jan 18 08:31 checkpoints\n",
            "drwxr-xr-x 1 root root 4.0K Jan 13 16:38 .config\n",
            "drwxr-xr-x 6 root root 4.0K Jan 18 08:24 downloads\n",
            "drwxr-xr-x 2 root root 4.0K Jan 18 10:01 .ipynb_checkpoints\n"
          ],
          "name": "stdout"
        }
      ]
    },
    {
      "cell_type": "code",
      "metadata": {
        "id": "_lFNxkXLAC-q",
        "colab_type": "code",
        "colab": {
          "base_uri": "https://localhost:8080/",
          "height": 34
        },
        "outputId": "0204864c-aacd-431f-c811-d9d9d5f763ba"
      },
      "source": [
        "paths[0][' Santro'][0]"
      ],
      "execution_count": 42,
      "outputs": [
        {
          "output_type": "execute_result",
          "data": {
            "text/plain": [
              "'/content/downloads/ Santro/1.Hyundai-Santro-Right-Side-138736.jpg'"
            ]
          },
          "metadata": {
            "tags": []
          },
          "execution_count": 42
        }
      ]
    },
    {
      "cell_type": "code",
      "metadata": {
        "id": "KWo385LNG6wc",
        "colab_type": "code",
        "colab": {
          "base_uri": "https://localhost:8080/",
          "height": 122
        },
        "outputId": "872a47dc-7f10-48e0-f3ca-4a7413040daa"
      },
      "source": [
        "from google.colab import drive\n",
        "drive.mount('/content/drive')"
      ],
      "execution_count": 57,
      "outputs": [
        {
          "output_type": "stream",
          "text": [
            "Go to this URL in a browser: https://accounts.google.com/o/oauth2/auth?client_id=947318989803-6bn6qk8qdgf4n4g3pfee6491hc0brc4i.apps.googleusercontent.com&redirect_uri=urn%3aietf%3awg%3aoauth%3a2.0%3aoob&response_type=code&scope=email%20https%3a%2f%2fwww.googleapis.com%2fauth%2fdocs.test%20https%3a%2f%2fwww.googleapis.com%2fauth%2fdrive%20https%3a%2f%2fwww.googleapis.com%2fauth%2fdrive.photos.readonly%20https%3a%2f%2fwww.googleapis.com%2fauth%2fpeopleapi.readonly\n",
            "\n",
            "Enter your authorization code:\n",
            "··········\n",
            "Mounted at /content/drive\n"
          ],
          "name": "stdout"
        }
      ]
    },
    {
      "cell_type": "code",
      "metadata": {
        "id": "zDt1uT43HZV8",
        "colab_type": "code",
        "colab": {}
      },
      "source": [
        "!cp cars_model.h5 /content/drive/My\\ Drive"
      ],
      "execution_count": 0,
      "outputs": []
    },
    {
      "cell_type": "code",
      "metadata": {
        "id": "ZI0xw7KsBHBK",
        "colab_type": "code",
        "colab": {}
      },
      "source": [
        "import cv2"
      ],
      "execution_count": 0,
      "outputs": []
    },
    {
      "cell_type": "code",
      "metadata": {
        "id": "o654LDFiBSkv",
        "colab_type": "code",
        "colab": {}
      },
      "source": [
        "img = cv2.imread(paths[0][' Santro'][0])"
      ],
      "execution_count": 0,
      "outputs": []
    },
    {
      "cell_type": "code",
      "metadata": {
        "id": "YEBUQe_GBYSz",
        "colab_type": "code",
        "colab": {
          "base_uri": "https://localhost:8080/",
          "height": 257
        },
        "outputId": "637a1251-095b-4e72-a01d-dfab3e41bcd2"
      },
      "source": [
        "plt.imshow(img)"
      ],
      "execution_count": 46,
      "outputs": [
        {
          "output_type": "execute_result",
          "data": {
            "text/plain": [
              "<matplotlib.image.AxesImage at 0x7f8ad6ec0048>"
            ]
          },
          "metadata": {
            "tags": []
          },
          "execution_count": 46
        },
        {
          "output_type": "display_data",
          "data": {
            "image/png": "[encoded data removed]",
            "text/plain": [
              "<Figure size 432x288 with 1 Axes>"
            ]
          },
          "metadata": {
            "tags": []
          }
        }
      ]
    },
    {
      "cell_type": "code",
      "metadata": {
        "id": "pOtp3gM6BY6L",
        "colab_type": "code",
        "colab": {}
      },
      "source": [
        "from keras.models import load_model\n",
        "from keras.preprocessing import image\n",
        "import numpy as np"
      ],
      "execution_count": 0,
      "outputs": []
    },
    {
      "cell_type": "code",
      "metadata": {
        "id": "IO_OEXbSBgIo",
        "colab_type": "code",
        "colab": {}
      },
      "source": [
        "img_width, img_height = 100, 100"
      ],
      "execution_count": 0,
      "outputs": []
    },
    {
      "cell_type": "code",
      "metadata": {
        "id": "sPE0O2RtDb4w",
        "colab_type": "code",
        "colab": {}
      },
      "source": [
        "model = load_model('cars_model.h5')"
      ],
      "execution_count": 0,
      "outputs": []
    },
    {
      "cell_type": "code",
      "metadata": {
        "id": "U5WzzKP4Kshw",
        "colab_type": "code",
        "colab": {
          "base_uri": "https://localhost:8080/",
          "height": 527
        },
        "outputId": "0c8be824-717f-4961-a83b-c3b6fa755b48"
      },
      "source": [
        "for i in range(30):\n",
        "  test_image = image.load_img(paths[0]['Wagon R'][i], target_size=(img_width, img_height))\n",
        "  test_image = image.img_to_array(test_image)\n",
        "  test_image = np.expand_dims(test_image, axis=0)\n",
        "  test_image = test_image.reshape(img_width, img_height,3)\n",
        "  result = model.predict(test_image.reshape(-1, test_image.shape[0],  test_image.shape[1],  test_image.shape[2]), batch_size=1)\n",
        "  print(np.argmax(result))"
      ],
      "execution_count": 79,
      "outputs": [
        {
          "output_type": "stream",
          "text": [
            "0\n",
            "3\n",
            "3\n",
            "3\n",
            "0\n",
            "3\n",
            "3\n",
            "3\n",
            "3\n",
            "3\n",
            "3\n",
            "3\n",
            "3\n",
            "3\n",
            "3\n",
            "3\n",
            "0\n",
            "3\n",
            "3\n",
            "0\n",
            "3\n",
            "1\n",
            "3\n",
            "0\n",
            "3\n",
            "0\n",
            "3\n",
            "3\n",
            "0\n",
            "0\n"
          ],
          "name": "stdout"
        }
      ]
    },
    {
      "cell_type": "code",
      "metadata": {
        "id": "GlKcgohWLMMB",
        "colab_type": "code",
        "colab": {}
      },
      "source": [
        ""
      ],
      "execution_count": 0,
      "outputs": []
    },
    {
      "cell_type": "code",
      "metadata": {
        "id": "pzJdaWVVLRs4",
        "colab_type": "code",
        "colab": {}
      },
      "source": [
        ""
      ],
      "execution_count": 0,
      "outputs": []
    },
    {
      "cell_type": "code",
      "metadata": {
        "id": "ZfTNLlIrLUMY",
        "colab_type": "code",
        "colab": {}
      },
      "source": [
        ""
      ],
      "execution_count": 0,
      "outputs": []
    },
    {
      "cell_type": "code",
      "metadata": {
        "id": "ybXSsMbFMtDG",
        "colab_type": "code",
        "colab": {}
      },
      "source": [
        "!touch test.txt\n",
        "!echo \"testing \\n This is new line\" >> test.txt"
      ],
      "execution_count": 0,
      "outputs": []
    },
    {
      "cell_type": "code",
      "metadata": {
        "id": "H_sfXb6TTax9",
        "colab_type": "code",
        "colab": {}
      },
      "source": [
        ""
      ],
      "execution_count": 0,
      "outputs": []
    },
    {
      "cell_type": "code",
      "metadata": {
        "id": "O-JvbqbQTdZY",
        "colab_type": "code",
        "colab": {}
      },
      "source": [
        ""
      ],
      "execution_count": 0,
      "outputs": []
    }
  ]
}